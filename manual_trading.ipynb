{
 "cells": [
  {
   "cell_type": "code",
   "execution_count": 45,
   "metadata": {},
   "outputs": [],
   "source": [
    "import numpy as np \n",
    "import itertools\n"
   ]
  },
  {
   "cell_type": "code",
   "execution_count": 46,
   "metadata": {},
   "outputs": [],
   "source": [
    "#from horizonal and vertials are to state \n",
    "#snowballs index 0, pizza index 1, silicon nuggets 2, seashells 3\n",
    "\n",
    "transition_matrix = np.array([[1, 1.45, 0.52, 0.72],\n",
    "                              [0.7, 1, 0.31, 0.48],\n",
    "                              [1.95, 3.1, 1, 1.49],\n",
    "                              [1.34, 1.98, 0.64, 1]])"
   ]
  },
  {
   "cell_type": "code",
   "execution_count": 47,
   "metadata": {},
   "outputs": [],
   "source": [
    "def generate_permutations(length_of_path):\n",
    "    digits = '0123'\n",
    "    middle_combinations = itertools.product(digits, repeat=length_of_path-1)\n",
    "    permutations = ['0' + ''.join(middle) + '0' for middle in middle_combinations]\n",
    "\n",
    "    return permutations\n",
    "\n",
    "def return_multiplier(permutaton: str) -> float:\n",
    "    multiplier = 1\n",
    "    for idx in range(len(permutaton)-1):\n",
    "        frm, to = int(permutaton[idx]), int(permutaton[idx+1])\n",
    "        multiplier*=transition_matrix[frm][to]\n",
    "    \n",
    "    return multiplier\n",
    "\n",
    "\n",
    "def return_optimal_path_for_length(length_of_path: int) -> tuple[str, float]:\n",
    "    perms = generate_permutations(length_of_path=length_of_path)\n",
    "    optimal_path = ''\n",
    "    optimal_multiplier = 0\n",
    "\n",
    "    for perm in perms: \n",
    "        multiplier = return_multiplier(perm)\n",
    "        if multiplier  >  optimal_multiplier:\n",
    "            optimal_multiplier = multiplier\n",
    "            optimal_path = perm \n",
    "\n",
    "    return optimal_path, optimal_multiplier\n",
    "\n",
    "\n",
    "\n",
    "def return_optimal_path(max_path_length=5):\n",
    "    optimal_paths_all_lengths = [return_optimal_path_for_length(length) for length in range(2,6)]\n",
    "    optimal_paths_all_lengths.sort(key= lambda x:x[1], reverse=True)\n",
    "\n",
    "    optimal_path, optimal_multiplier = optimal_paths_all_lengths[0][0], optimal_paths_all_lengths[0][1] \n",
    "    return optimal_path, optimal_multiplier\n",
    "\n",
    "\n"
   ]
  },
  {
   "cell_type": "code",
   "execution_count": 52,
   "metadata": {},
   "outputs": [
    {
     "data": {
      "text/plain": [
       "('010210', 1.1453259999999998)"
      ]
     },
     "execution_count": 52,
     "metadata": {},
     "output_type": "execute_result"
    }
   ],
   "source": [
    "return_optimal_path()"
   ]
  },
  {
   "cell_type": "code",
   "execution_count": 51,
   "metadata": {},
   "outputs": [
    {
     "data": {
      "text/plain": [
       "1.1284"
      ]
     },
     "execution_count": 51,
     "metadata": {},
     "output_type": "execute_result"
    }
   ],
   "source": [
    "return_multiplier('000210')"
   ]
  },
  {
   "cell_type": "code",
   "execution_count": 44,
   "metadata": {},
   "outputs": [
    {
     "ename": "TypeError",
     "evalue": "return_optimal_path() got an unexpected keyword argument 'length_of_path'",
     "output_type": "error",
     "traceback": [
      "\u001b[0;31m---------------------------------------------------------------------------\u001b[0m",
      "\u001b[0;31mTypeError\u001b[0m                                 Traceback (most recent call last)",
      "Cell \u001b[0;32mIn[44], line 1\u001b[0m\n\u001b[0;32m----> 1\u001b[0m \u001b[43mreturn_optimal_path\u001b[49m\u001b[43m(\u001b[49m\u001b[43mlength_of_path\u001b[49m\u001b[38;5;241;43m=\u001b[39;49m\u001b[38;5;241;43m5\u001b[39;49m\u001b[43m)\u001b[49m\n",
      "\u001b[0;31mTypeError\u001b[0m: return_optimal_path() got an unexpected keyword argument 'length_of_path'"
     ]
    }
   ],
   "source": [
    "return_optimal_path(length_of_path=5)"
   ]
  },
  {
   "cell_type": "code",
   "execution_count": null,
   "metadata": {},
   "outputs": [],
   "source": []
  }
 ],
 "metadata": {
  "kernelspec": {
   "display_name": "Python 3",
   "language": "python",
   "name": "python3"
  },
  "language_info": {
   "codemirror_mode": {
    "name": "ipython",
    "version": 3
   },
   "file_extension": ".py",
   "mimetype": "text/x-python",
   "name": "python",
   "nbconvert_exporter": "python",
   "pygments_lexer": "ipython3",
   "version": "3.10.16"
  }
 },
 "nbformat": 4,
 "nbformat_minor": 2
}
