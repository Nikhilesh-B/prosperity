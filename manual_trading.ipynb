{
 "cells": [
  {
   "cell_type": "code",
   "execution_count": 20,
   "metadata": {},
   "outputs": [],
   "source": [
    "import numpy as np \n",
    "import itertools\n"
   ]
  },
  {
   "cell_type": "code",
   "execution_count": 21,
   "metadata": {},
   "outputs": [],
   "source": [
    "#from horizonal and vertials are to state \n",
    "#snowballs index 0, pizza index 1, silicon nuggets 2, seashells 3\n",
    "\n",
    "transition_matrix = np.array([[1, 1.45, 0.52, 0.72],\n",
    "                              [0.7, 1, 0.31, 0.48],\n",
    "                              [1.95, 3.1, 1, 1.49],\n",
    "                              [1.34, 1.98, 0.64, 1]])"
   ]
  },
  {
   "cell_type": "code",
   "execution_count": 22,
   "metadata": {},
   "outputs": [],
   "source": [
    "def generate_permutations(length_of_path):\n",
    "    digits = '0123'\n",
    "    middle_combinations = itertools.product(digits, repeat=length_of_path-1)\n",
    "    permutations = ['3' + ''.join(middle) + '3' for middle in middle_combinations]\n",
    "\n",
    "    return permutations\n",
    "\n",
    "def return_multiplier(permutaton: str) -> float:\n",
    "    multiplier = 1\n",
    "    for idx in range(len(permutaton)-1):\n",
    "        frm, to = int(permutaton[idx]), int(permutaton[idx+1])\n",
    "        multiplier*=transition_matrix[frm][to]\n",
    "    \n",
    "    return multiplier\n",
    "\n",
    "\n",
    "def return_optimal_path_for_length(length_of_path: int) -> tuple[str, float]:\n",
    "    perms = generate_permutations(length_of_path=length_of_path)\n",
    "    optimal_path = ''\n",
    "    optimal_multiplier = 0\n",
    "\n",
    "    for perm in perms: \n",
    "        multiplier = return_multiplier(perm)\n",
    "        if multiplier  >  optimal_multiplier:\n",
    "            optimal_multiplier = multiplier\n",
    "            optimal_path = perm \n",
    "\n",
    "    return optimal_path, optimal_multiplier\n",
    "\n",
    "\n",
    "\n",
    "def return_optimal_path(max_path_length=5):\n",
    "    optimal_paths_all_lengths = [return_optimal_path_for_length(length) for length in range(2,max_path_length+1)]\n",
    "    optimal_paths_all_lengths.sort(key= lambda x:x[1], reverse=True)\n",
    "\n",
    "    optimal_path, optimal_multiplier = optimal_paths_all_lengths[0][0], optimal_paths_all_lengths[0][1] \n",
    "    return optimal_path, optimal_multiplier\n",
    "\n",
    "\n"
   ]
  },
  {
   "cell_type": "code",
   "execution_count": 24,
   "metadata": {},
   "outputs": [
    {
     "data": {
      "text/plain": [
       "1.08868032"
      ]
     },
     "execution_count": 24,
     "metadata": {},
     "output_type": "execute_result"
    }
   ],
   "source": [
    "#jehil initial solution \n",
    "return_multiplier('302103')"
   ]
  },
  {
   "cell_type": "code",
   "execution_count": 25,
   "metadata": {},
   "outputs": [
    {
     "data": {
      "text/plain": [
       "('302103', 1.08868032)"
      ]
     },
     "execution_count": 25,
     "metadata": {},
     "output_type": "execute_result"
    }
   ],
   "source": [
    "return_optimal_path()"
   ]
  },
  {
   "cell_type": "code",
   "execution_count": 26,
   "metadata": {},
   "outputs": [
    {
     "data": {
      "text/plain": [
       "('31023', 1.0738728)"
      ]
     },
     "execution_count": 26,
     "metadata": {},
     "output_type": "execute_result"
    }
   ],
   "source": [
    "return_optimal_path(max_path_length=4)"
   ]
  },
  {
   "cell_type": "code",
   "execution_count": 27,
   "metadata": {},
   "outputs": [
    {
     "data": {
      "text/plain": [
       "('3023', 1.038232)"
      ]
     },
     "execution_count": 27,
     "metadata": {},
     "output_type": "execute_result"
    }
   ],
   "source": [
    "return_optimal_path(max_path_length=3)\n"
   ]
  },
  {
   "cell_type": "code",
   "execution_count": 28,
   "metadata": {},
   "outputs": [
    {
     "data": {
      "text/plain": [
       "('333', 1.0)"
      ]
     },
     "execution_count": 28,
     "metadata": {},
     "output_type": "execute_result"
    }
   ],
   "source": [
    "return_optimal_path(max_path_length=2)\n"
   ]
  }
 ],
 "metadata": {
  "kernelspec": {
   "display_name": "Python 3",
   "language": "python",
   "name": "python3"
  },
  "language_info": {
   "codemirror_mode": {
    "name": "ipython",
    "version": 3
   },
   "file_extension": ".py",
   "mimetype": "text/x-python",
   "name": "python",
   "nbconvert_exporter": "python",
   "pygments_lexer": "ipython3",
   "version": "3.10.16"
  }
 },
 "nbformat": 4,
 "nbformat_minor": 2
}
