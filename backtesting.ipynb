{
 "cells": [
  {
   "cell_type": "markdown",
   "metadata": {},
   "source": [
    "## Backtesting framework"
   ]
  },
  {
   "cell_type": "code",
   "execution_count": 1,
   "metadata": {},
   "outputs": [],
   "source": [
    "import numpy as np\n",
    "import matplotlib.pyplot as plt\n",
    "import os\n",
    "import pandas as pd\n",
    "\n",
    "\n",
    "from datamodel import OrderDepth, Trade, TradingState, Order"
   ]
  },
  {
   "cell_type": "code",
   "execution_count": null,
   "metadata": {},
   "outputs": [],
   "source": [
    "ROUND_NUMBER = \"1\"\n"
   ]
  },
  {
   "cell_type": "code",
   "execution_count": null,
   "metadata": {},
   "outputs": [],
   "source": [
    "#create an order book at a timestamp \n",
    "\n",
    "def update_order_book(round_number: int, day_number: int, timestamp: int, existing_order_book: OrderDepth = None):\n",
    "    \"\"\"\n",
    "    Creates an order book from the current trading state\n",
    "    \n",
    "    Args:\n",
    "        state (TradingState): Current state of trading containing order depths\n",
    "        \n",
    "    Returns:\n",
    "        dict: Dictionary containing order books for each product\n",
    "    \"\"\"\n",
    "    order_books = {}\n",
    "    \n",
    "    # Iterate through each product's order depth\n",
    "    for product in state.order_depths.keys():\n",
    "        order_depth = state.order_depths[product]\n",
    "        \n",
    "        # Create order book for this product\n",
    "        order_books[product] = {\n",
    "            'asks': order_depth.sell_orders,  # Sell orders (asks)\n",
    "            'bids': order_depth.buy_orders    # Buy orders (bids)\n",
    "        }\n",
    "        \n",
    "    return order_books\n",
    "\n",
    "\n",
    "\n",
    "\n",
    "\n",
    "\n",
    "\n",
    "\n"
   ]
  }
 ],
 "metadata": {
  "kernelspec": {
   "display_name": "Python 3",
   "language": "python",
   "name": "python3"
  },
  "language_info": {
   "codemirror_mode": {
    "name": "ipython",
    "version": 3
   },
   "file_extension": ".py",
   "mimetype": "text/x-python",
   "name": "python",
   "nbconvert_exporter": "python",
   "pygments_lexer": "ipython3",
   "version": "3.10.16"
  }
 },
 "nbformat": 4,
 "nbformat_minor": 2
}
